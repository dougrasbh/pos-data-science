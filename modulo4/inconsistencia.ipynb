{
 "cells": [
  {
   "cell_type": "code",
   "execution_count": 3,
   "id": "1899434c",
   "metadata": {},
   "outputs": [
    {
     "name": "stdout",
     "output_type": "stream",
     "text": [
      "Requirement already satisfied: textdistance in c:\\users\\bh_ro\\appdata\\local\\programs\\python\\python312\\lib\\site-packages (4.6.3)\n",
      "Collecting editdistance\n",
      "  Downloading editdistance-0.8.1-cp312-cp312-win_amd64.whl.metadata (3.9 kB)\n",
      "Downloading editdistance-0.8.1-cp312-cp312-win_amd64.whl (79 kB)\n",
      "   ---------------------------------------- 0.0/79.9 kB ? eta -:--:--\n",
      "   ----- ---------------------------------- 10.2/79.9 kB ? eta -:--:--\n",
      "   ---------- ----------------------------- 20.5/79.9 kB 330.3 kB/s eta 0:00:01\n",
      "   ----------------------------------- ---- 71.7/79.9 kB 558.5 kB/s eta 0:00:01\n",
      "   ---------------------------------------- 79.9/79.9 kB 556.9 kB/s eta 0:00:00\n",
      "Installing collected packages: editdistance\n",
      "Successfully installed editdistance-0.8.1\n",
      "Note: you may need to restart the kernel to use updated packages.\n"
     ]
    },
    {
     "name": "stderr",
     "output_type": "stream",
     "text": [
      "\n",
      "[notice] A new release of pip is available: 24.0 -> 25.1.1\n",
      "[notice] To update, run: python.exe -m pip install --upgrade pip\n"
     ]
    }
   ],
   "source": [
    "%pip install textdistance editdistance"
   ]
  },
  {
   "cell_type": "code",
   "execution_count": 4,
   "id": "ef627430",
   "metadata": {},
   "outputs": [],
   "source": [
    "import textdistance\n",
    "import editdistance"
   ]
  },
  {
   "cell_type": "code",
   "execution_count": null,
   "id": "c7d815cd",
   "metadata": {},
   "outputs": [
    {
     "name": "stdout",
     "output_type": "stream",
     "text": [
      "Edit distance:  1\n",
      "Jaro:  0.9444444444444445\n",
      "Hamming:  3\n",
      "HammingDist:  3\n",
      "HammingSim:  3\n",
      "HammingNDist:  0.5\n",
      "HammingNSim:  0.5\n",
      "HammingDistq:  3\n"
     ]
    }
   ],
   "source": [
    "\n",
    "def distance_string(str1: str, str2: str):\n",
    "    editdist = editdistance.eval(str1, str2)\n",
    "    print(\"Edit distance: \", editdist)\n",
    "\n",
    "    jaro = textdistance.jaro(str1, str2)\n",
    "    print(\"Jaro: \", jaro)\n",
    "\n",
    "    hamming = textdistance.hamming(str1, str2)\n",
    "    print(\"Hamming: \", hamming)\n",
    "\n",
    "    hammingDist = textdistance.hamming.distance(str1, str2)\n",
    "    print(\"HammingDist: \", hammingDist)\n",
    "\n",
    "    hammingSim = textdistance.hamming.similarity(str1, str2)\n",
    "    print(\"HammingSim: \", hammingSim)\n",
    "\n",
    "    hammingNDist = textdistance.hamming.normalized_distance(str1, str2)\n",
    "    print(\"HammingNDist: \", hammingNDist)\n",
    "\n",
    "    hammingNSim = textdistance.hamming.normalized_similarity(str1, str2)\n",
    "    print(\"HammingNSim: \", hammingNSim)\n",
    "\n",
    "    hammingDistq = textdistance.Hamming(qval=2).distance(str1, str2)\n",
    "    print(\"HammingDistq: \", hammingDistq)\n",
    "\n",
    "distance_string('carros','caros')\n"
   ]
  },
  {
   "cell_type": "code",
   "execution_count": null,
   "id": "2ba25edf",
   "metadata": {},
   "outputs": [
    {
     "name": "stdout",
     "output_type": "stream",
     "text": [
      "jaccard:  0.7333333333333333\n",
      "sorensen:  0.8461538461538461\n",
      "jaccard:  0.6666666666666666\n",
      "sorensen:  0.8\n"
     ]
    }
   ],
   "source": [
    "def gramas_string(str1: str, str2: str):\n",
    "    jaccard = textdistance.jaccard(str1, str2)\n",
    "    print(\"jaccard: \", jaccard)\n",
    "\n",
    "    sorensen = textdistance.sorensen_dice(str1, str2)\n",
    "    print(\"sorensen: \", sorensen)\n",
    "\n",
    "\n",
    "tokens_1 = \"hello world\"#.split()\n",
    "tokens_2 = \"world new hello\"\n",
    "\n",
    "gramas_string(tokens_1, tokens_2)\n",
    "\n",
    "tokens_1 = \"hello world\".split()\n",
    "tokens_2 = \"world new hello\".split()\n",
    "\n",
    "gramas_string(tokens_1, tokens_2)\n"
   ]
  },
  {
   "cell_type": "code",
   "execution_count": null,
   "id": "7f6dd5f9",
   "metadata": {},
   "outputs": [],
   "source": []
  }
 ],
 "metadata": {
  "kernelspec": {
   "display_name": "Python 3",
   "language": "python",
   "name": "python3"
  },
  "language_info": {
   "codemirror_mode": {
    "name": "ipython",
    "version": 3
   },
   "file_extension": ".py",
   "mimetype": "text/x-python",
   "name": "python",
   "nbconvert_exporter": "python",
   "pygments_lexer": "ipython3",
   "version": "3.12.2"
  }
 },
 "nbformat": 4,
 "nbformat_minor": 5
}
