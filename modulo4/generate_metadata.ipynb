{
 "cells": [
  {
   "cell_type": "code",
   "execution_count": 10,
   "id": "f28c4811",
   "metadata": {},
   "outputs": [],
   "source": [
    "import json\n",
    "from datetime import date, datetime\n",
    "from pathlib import Path"
   ]
  },
  {
   "cell_type": "code",
   "execution_count": 3,
   "id": "941b2293",
   "metadata": {},
   "outputs": [],
   "source": [
    "datalake_catalog = [\n",
    "  {\n",
    "    \"dataset_name\": \"Olympic Games\",\n",
    "    \"description\": \"Original dataset with results of Olympic Games\",\n",
    "    \"path\": \"data_lake/raw/Olympic Games.csv\",\n",
    "    \"level\": \"bronze\",\n",
    "    \"format\": \"csv\",\n",
    "    \"created_at\": str(date.today()),\n",
    "    \"version\": \"1.0\"\n",
    "  }\n",
    "]"
   ]
  },
  {
   "cell_type": "code",
   "execution_count": 4,
   "id": "ee37f4b7",
   "metadata": {},
   "outputs": [],
   "source": [
    "catalog_path = Path('data_lake/metadata')\n",
    "catalog_path.mkdir(parents=True, exist_ok=True)"
   ]
  },
  {
   "cell_type": "code",
   "execution_count": 5,
   "id": "ba3265e3",
   "metadata": {},
   "outputs": [],
   "source": [
    "file_path = catalog_path / \"datalake_catalog.json\"\n",
    "with open(file_path, \"w\", encoding=\"utf-8\") as f:\n",
    "  json.dump(datalake_catalog, f, ensure_ascii=False, indent=4)"
   ]
  },
  {
   "cell_type": "code",
   "execution_count": 6,
   "id": "05ed8bfd",
   "metadata": {},
   "outputs": [],
   "source": [
    "metadados = {\n",
    "  \"file\": \"Olympic Games.csv\",\n",
    "  \"description\": \"Athletes data on Olympic Games\",\n",
    "  \"format\": \"csv\",\n",
    "  \"separator\": \",\",\n",
    "  \"encoding\": \"latin1\",\n",
    "  \"number_of_rows\": 8618,\n",
    "  \"columns\": [\n",
    "    {\"name\": \"Name\", \"type\": \"string\", \"description\": \"Athelete name\"},\n",
    "  ],\n",
    "  \"origin\": \"Unknown\",\n",
    "  \"collect_date\": \"2025-05-31\",\n",
    "  \"owner\": \"Ronald Boadana\"\n",
    "}"
   ]
  },
  {
   "cell_type": "code",
   "execution_count": 8,
   "id": "445acaaa",
   "metadata": {},
   "outputs": [],
   "source": [
    "metadata_path = \"./data_lake/metadata/Olympic Games_metadata.json\"\n",
    "with open(metadata_path, \"w\", encoding=\"utf-8\") as f:\n",
    "  json.dump(metadados, f, ensure_ascii=False, indent=4)"
   ]
  },
  {
   "cell_type": "markdown",
   "id": "80fd0ce0",
   "metadata": {},
   "source": [
    "<h3>Updating the processed metadata"
   ]
  },
  {
   "cell_type": "code",
   "execution_count": 11,
   "id": "c0e6bf14",
   "metadata": {},
   "outputs": [],
   "source": [
    "catalog_path_metadata = Path('data_lake/metadata/datalake_catalog.json')\n",
    "\n",
    "new_metadata = {\n",
    "  \"file_name\": \"processed_olympic_games_by_country.csv\",\n",
    "  \"description\": \"Total medals per country in Olympic Games\",\n",
    "  \"path\": \"data_lake/processed/processed_olympic_games_by_country.csv\",\n",
    "  \"level\": \"silver\",\n",
    "  \"format\": \"csv\",\n",
    "  \"created_at\": datetime.now().strftime(\"%Y-%m-%d %H:%M:%S\")\n",
    "}"
   ]
  },
  {
   "cell_type": "code",
   "execution_count": 12,
   "id": "1bbea34e",
   "metadata": {},
   "outputs": [],
   "source": [
    "if catalog_path_metadata.exists():\n",
    "  with open(catalog_path_metadata, \"r\", encoding=\"utf-8\") as f:\n",
    "    try:\n",
    "      catalog = json.load(f)\n",
    "    except json.JSONDecodeError:\n",
    "      catalog = []\n",
    "else:\n",
    "  catalog_path_metadata.parent.mkdir(parents=True, exist_ok=True)\n",
    "  catalog = []\n",
    "\n",
    "catalog.append(new_metadata)\n",
    "with open(catalog_path_metadata, \"w\", encoding=\"utf-8\") as f:\n",
    "  json.dump(catalog, f, ensure_ascii=False, indent=4)"
   ]
  },
  {
   "cell_type": "code",
   "execution_count": 13,
   "id": "a28ae154",
   "metadata": {},
   "outputs": [],
   "source": [
    "metadata_medals_per_country = {\n",
    "  \"file\": \"processed_olympic_games_by_country.csv\",\n",
    "  \"description\": \"File with total medals\",\n",
    "  \"data_origin_file\": \"Olympic Games.csv\",  \n",
    "\n",
    "  \"encoding\": \"latin1\",\n",
    "  \"number_of_rows\": 8618,\n",
    "  \"columns\": [\n",
    "    {\"name\": \"Country\", \"type\": \"string\", \"description\": \"Country name\"},\n",
    "  ],\n",
    "  \"format\": \"csv\",  \n",
    "  \"separator\": \",\",\n",
    "  \"header_line\": True,\n",
    "  \"file_path\": \"data_lake/processed/processed_olympic_games_by_country.csv\",\n",
    "  \"version\": \"1.0\",\n",
    "  \"notes\": \"Data grouped by country\"\n",
    "}"
   ]
  },
  {
   "cell_type": "code",
   "execution_count": 14,
   "id": "4ded009a",
   "metadata": {},
   "outputs": [],
   "source": [
    "metadata_path = \"./data_lake/metadata/Country_medals_metadata.json\"\n",
    "with open(metadata_path, \"w\", encoding=\"utf-8\") as f:\n",
    "  json.dump(metadata_medals_per_country, f, ensure_ascii=False, indent=4)"
   ]
  },
  {
   "cell_type": "code",
   "execution_count": null,
   "id": "db6af50d",
   "metadata": {},
   "outputs": [],
   "source": []
  }
 ],
 "metadata": {
  "kernelspec": {
   "display_name": "Python 3",
   "language": "python",
   "name": "python3"
  },
  "language_info": {
   "codemirror_mode": {
    "name": "ipython",
    "version": 3
   },
   "file_extension": ".py",
   "mimetype": "text/x-python",
   "name": "python",
   "nbconvert_exporter": "python",
   "pygments_lexer": "ipython3",
   "version": "3.12.2"
  }
 },
 "nbformat": 4,
 "nbformat_minor": 5
}
